{
 "cells": [
  {
   "cell_type": "code",
   "execution_count": 6,
   "metadata": {},
   "outputs": [],
   "source": [
    "import numpy as np\n",
    "import pandas as pd\n",
    "import scipy\n",
    "from matplotlib import pylab, gridspec, pyplot as plt\n",
    "%matplotlib inline\n",
    "plt.style.use('fivethirtyeight')"
   ]
  },
  {
   "cell_type": "code",
   "execution_count": 7,
   "metadata": {},
   "outputs": [],
   "source": [
    "df = pd.read_csv(\"data.csv\", index_col=False)"
   ]
  },
  {
   "cell_type": "code",
   "execution_count": 8,
   "metadata": {},
   "outputs": [
    {
     "data": {
      "text/html": [
       "<div>\n",
       "<style scoped>\n",
       "    .dataframe tbody tr th:only-of-type {\n",
       "        vertical-align: middle;\n",
       "    }\n",
       "\n",
       "    .dataframe tbody tr th {\n",
       "        vertical-align: top;\n",
       "    }\n",
       "\n",
       "    .dataframe thead th {\n",
       "        text-align: right;\n",
       "    }\n",
       "</style>\n",
       "<table border=\"1\" class=\"dataframe\">\n",
       "  <thead>\n",
       "    <tr style=\"text-align: right;\">\n",
       "      <th></th>\n",
       "      <th>arr_line</th>\n",
       "      <th>dest_line</th>\n",
       "      <th>arr_station</th>\n",
       "      <th>dest_station</th>\n",
       "    </tr>\n",
       "  </thead>\n",
       "  <tbody>\n",
       "    <tr>\n",
       "      <td>0</td>\n",
       "      <td>Сокольническая линия</td>\n",
       "      <td>Сокольническая линия</td>\n",
       "      <td>Черкизовская</td>\n",
       "      <td>Преображенская площадь</td>\n",
       "    </tr>\n",
       "    <tr>\n",
       "      <td>1</td>\n",
       "      <td>Сокольническая линия</td>\n",
       "      <td>Сокольническая линия</td>\n",
       "      <td>Преображенская площадь</td>\n",
       "      <td>Сокольники</td>\n",
       "    </tr>\n",
       "    <tr>\n",
       "      <td>2</td>\n",
       "      <td>Сокольническая линия</td>\n",
       "      <td>Сокольническая линия</td>\n",
       "      <td>Сокольники</td>\n",
       "      <td>Красносельская</td>\n",
       "    </tr>\n",
       "    <tr>\n",
       "      <td>3</td>\n",
       "      <td>Сокольническая линия</td>\n",
       "      <td>Сокольническая линия</td>\n",
       "      <td>Красносельская</td>\n",
       "      <td>Комсомольская</td>\n",
       "    </tr>\n",
       "    <tr>\n",
       "      <td>4</td>\n",
       "      <td>Сокольническая линия</td>\n",
       "      <td>Сокольническая линия</td>\n",
       "      <td>Комсомольская</td>\n",
       "      <td>Красные ворота</td>\n",
       "    </tr>\n",
       "  </tbody>\n",
       "</table>\n",
       "</div>"
      ],
      "text/plain": [
       "               arr_line              dest_line              arr_station  \\\n",
       "0  Сокольническая линия   Сокольническая линия             Черкизовская   \n",
       "1  Сокольническая линия   Сокольническая линия   Преображенская площадь   \n",
       "2  Сокольническая линия   Сокольническая линия               Сокольники   \n",
       "3  Сокольническая линия   Сокольническая линия           Красносельская   \n",
       "4  Сокольническая линия   Сокольническая линия            Комсомольская   \n",
       "\n",
       "              dest_station  \n",
       "0   Преображенская площадь  \n",
       "1               Сокольники  \n",
       "2           Красносельская  \n",
       "3            Комсомольская  \n",
       "4           Красные ворота  "
      ]
     },
     "execution_count": 8,
     "metadata": {},
     "output_type": "execute_result"
    }
   ],
   "source": [
    "df.head()"
   ]
  },
  {
   "cell_type": "code",
   "execution_count": 9,
   "metadata": {
    "scrolled": true
   },
   "outputs": [],
   "source": [
    "df['transf'] = False\n",
    "df[\"arr_line\"] = \" \" + df[\"arr_line\"]"
   ]
  },
  {
   "cell_type": "code",
   "execution_count": 10,
   "metadata": {},
   "outputs": [],
   "source": [
    "df.loc[df[\"arr_line\"] != df[\"dest_line\"], \"transf\"] = True"
   ]
  },
  {
   "cell_type": "code",
   "execution_count": 11,
   "metadata": {
    "scrolled": true
   },
   "outputs": [
    {
     "data": {
      "text/html": [
       "<div>\n",
       "<style scoped>\n",
       "    .dataframe tbody tr th:only-of-type {\n",
       "        vertical-align: middle;\n",
       "    }\n",
       "\n",
       "    .dataframe tbody tr th {\n",
       "        vertical-align: top;\n",
       "    }\n",
       "\n",
       "    .dataframe thead th {\n",
       "        text-align: right;\n",
       "    }\n",
       "</style>\n",
       "<table border=\"1\" class=\"dataframe\">\n",
       "  <thead>\n",
       "    <tr style=\"text-align: right;\">\n",
       "      <th></th>\n",
       "      <th>arr_line</th>\n",
       "      <th>dest_line</th>\n",
       "      <th>arr_station</th>\n",
       "      <th>dest_station</th>\n",
       "      <th>transf</th>\n",
       "    </tr>\n",
       "  </thead>\n",
       "  <tbody>\n",
       "    <tr>\n",
       "      <td>0</td>\n",
       "      <td>Сокольническая линия</td>\n",
       "      <td>Сокольническая линия</td>\n",
       "      <td>Черкизовская</td>\n",
       "      <td>Преображенская площадь</td>\n",
       "      <td>False</td>\n",
       "    </tr>\n",
       "    <tr>\n",
       "      <td>1</td>\n",
       "      <td>Сокольническая линия</td>\n",
       "      <td>Сокольническая линия</td>\n",
       "      <td>Преображенская площадь</td>\n",
       "      <td>Сокольники</td>\n",
       "      <td>False</td>\n",
       "    </tr>\n",
       "    <tr>\n",
       "      <td>2</td>\n",
       "      <td>Сокольническая линия</td>\n",
       "      <td>Сокольническая линия</td>\n",
       "      <td>Сокольники</td>\n",
       "      <td>Красносельская</td>\n",
       "      <td>False</td>\n",
       "    </tr>\n",
       "    <tr>\n",
       "      <td>3</td>\n",
       "      <td>Сокольническая линия</td>\n",
       "      <td>Сокольническая линия</td>\n",
       "      <td>Красносельская</td>\n",
       "      <td>Комсомольская</td>\n",
       "      <td>False</td>\n",
       "    </tr>\n",
       "    <tr>\n",
       "      <td>4</td>\n",
       "      <td>Сокольническая линия</td>\n",
       "      <td>Сокольническая линия</td>\n",
       "      <td>Комсомольская</td>\n",
       "      <td>Красные ворота</td>\n",
       "      <td>False</td>\n",
       "    </tr>\n",
       "    <tr>\n",
       "      <td>5</td>\n",
       "      <td>Сокольническая линия</td>\n",
       "      <td>Кольцевая линия</td>\n",
       "      <td>Комсомольская</td>\n",
       "      <td>Комсомольская</td>\n",
       "      <td>True</td>\n",
       "    </tr>\n",
       "    <tr>\n",
       "      <td>6</td>\n",
       "      <td>Сокольническая линия</td>\n",
       "      <td>Сокольническая линия</td>\n",
       "      <td>Красные ворота</td>\n",
       "      <td>Чистые пруды</td>\n",
       "      <td>False</td>\n",
       "    </tr>\n",
       "    <tr>\n",
       "      <td>7</td>\n",
       "      <td>Сокольническая линия</td>\n",
       "      <td>Сокольническая линия</td>\n",
       "      <td>Чистые пруды</td>\n",
       "      <td>Лубянка</td>\n",
       "      <td>False</td>\n",
       "    </tr>\n",
       "    <tr>\n",
       "      <td>8</td>\n",
       "      <td>Сокольническая линия</td>\n",
       "      <td>Калужско-Рижская линия</td>\n",
       "      <td>Чистые пруды</td>\n",
       "      <td>Тургеневская</td>\n",
       "      <td>True</td>\n",
       "    </tr>\n",
       "    <tr>\n",
       "      <td>9</td>\n",
       "      <td>Сокольническая линия</td>\n",
       "      <td>Люблинская линия</td>\n",
       "      <td>Чистые пруды</td>\n",
       "      <td>Сретенский бульвар</td>\n",
       "      <td>True</td>\n",
       "    </tr>\n",
       "  </tbody>\n",
       "</table>\n",
       "</div>"
      ],
      "text/plain": [
       "                arr_line                dest_line              arr_station  \\\n",
       "0   Сокольническая линия     Сокольническая линия             Черкизовская   \n",
       "1   Сокольническая линия     Сокольническая линия   Преображенская площадь   \n",
       "2   Сокольническая линия     Сокольническая линия               Сокольники   \n",
       "3   Сокольническая линия     Сокольническая линия           Красносельская   \n",
       "4   Сокольническая линия     Сокольническая линия            Комсомольская   \n",
       "5   Сокольническая линия          Кольцевая линия            Комсомольская   \n",
       "6   Сокольническая линия     Сокольническая линия           Красные ворота   \n",
       "7   Сокольническая линия     Сокольническая линия             Чистые пруды   \n",
       "8   Сокольническая линия   Калужско-Рижская линия             Чистые пруды   \n",
       "9   Сокольническая линия         Люблинская линия             Чистые пруды   \n",
       "\n",
       "              dest_station  transf  \n",
       "0   Преображенская площадь   False  \n",
       "1               Сокольники   False  \n",
       "2           Красносельская   False  \n",
       "3            Комсомольская   False  \n",
       "4           Красные ворота   False  \n",
       "5            Комсомольская    True  \n",
       "6             Чистые пруды   False  \n",
       "7                  Лубянка   False  \n",
       "8             Тургеневская    True  \n",
       "9       Сретенский бульвар    True  "
      ]
     },
     "execution_count": 11,
     "metadata": {},
     "output_type": "execute_result"
    }
   ],
   "source": [
    "df.head(10)"
   ]
  },
  {
   "cell_type": "code",
   "execution_count": 12,
   "metadata": {},
   "outputs": [],
   "source": [
    "new_df = pd.DataFrame(columns=['from', 'to'])"
   ]
  },
  {
   "cell_type": "code",
   "execution_count": 13,
   "metadata": {
    "scrolled": true
   },
   "outputs": [
    {
     "data": {
      "text/html": [
       "<div>\n",
       "<style scoped>\n",
       "    .dataframe tbody tr th:only-of-type {\n",
       "        vertical-align: middle;\n",
       "    }\n",
       "\n",
       "    .dataframe tbody tr th {\n",
       "        vertical-align: top;\n",
       "    }\n",
       "\n",
       "    .dataframe thead th {\n",
       "        text-align: right;\n",
       "    }\n",
       "</style>\n",
       "<table border=\"1\" class=\"dataframe\">\n",
       "  <thead>\n",
       "    <tr style=\"text-align: right;\">\n",
       "      <th></th>\n",
       "      <th>from</th>\n",
       "      <th>to</th>\n",
       "    </tr>\n",
       "  </thead>\n",
       "  <tbody>\n",
       "    <tr>\n",
       "      <td>0</td>\n",
       "      <td>Сокольническая линия Черкизовская</td>\n",
       "      <td>Сокольническая линия Преображенская площадь</td>\n",
       "    </tr>\n",
       "    <tr>\n",
       "      <td>1</td>\n",
       "      <td>Сокольническая линия Преображенская площадь</td>\n",
       "      <td>Сокольническая линия Сокольники</td>\n",
       "    </tr>\n",
       "    <tr>\n",
       "      <td>2</td>\n",
       "      <td>Сокольническая линия Сокольники</td>\n",
       "      <td>Сокольническая линия Красносельская</td>\n",
       "    </tr>\n",
       "    <tr>\n",
       "      <td>3</td>\n",
       "      <td>Сокольническая линия Красносельская</td>\n",
       "      <td>Сокольническая линия Комсомольская</td>\n",
       "    </tr>\n",
       "    <tr>\n",
       "      <td>4</td>\n",
       "      <td>Сокольническая линия Комсомольская</td>\n",
       "      <td>Сокольническая линия Красные ворота</td>\n",
       "    </tr>\n",
       "  </tbody>\n",
       "</table>\n",
       "</div>"
      ],
      "text/plain": [
       "                                           from  \\\n",
       "0             Сокольническая линия Черкизовская   \n",
       "1   Сокольническая линия Преображенская площадь   \n",
       "2               Сокольническая линия Сокольники   \n",
       "3           Сокольническая линия Красносельская   \n",
       "4            Сокольническая линия Комсомольская   \n",
       "\n",
       "                                             to  \n",
       "0   Сокольническая линия Преображенская площадь  \n",
       "1               Сокольническая линия Сокольники  \n",
       "2           Сокольническая линия Красносельская  \n",
       "3            Сокольническая линия Комсомольская  \n",
       "4           Сокольническая линия Красные ворота  "
      ]
     },
     "execution_count": 13,
     "metadata": {},
     "output_type": "execute_result"
    }
   ],
   "source": [
    "new_df['from'] = df['arr_line'] + df['arr_station']\n",
    "new_df['to'] = df['dest_line'] + df['dest_station']\n",
    "new_df.head()"
   ]
  },
  {
   "cell_type": "code",
   "execution_count": 14,
   "metadata": {},
   "outputs": [],
   "source": [
    "stations = np.unique(new_df[['from', 'to']].values)\n",
    "dict_stations = dict(zip(stations, range(stations.shape[0])))\n",
    "dict_transform = dict(zip(range(stations.shape[0]), stations))"
   ]
  },
  {
   "cell_type": "code",
   "execution_count": 15,
   "metadata": {},
   "outputs": [
    {
     "data": {
      "text/plain": [
       "(202, 202)"
      ]
     },
     "execution_count": 15,
     "metadata": {},
     "output_type": "execute_result"
    }
   ],
   "source": [
    "adj_matrix = np.zeros([stations.shape[0], stations.shape[0]])\n",
    "adj_matrix.shape"
   ]
  },
  {
   "cell_type": "code",
   "execution_count": 16,
   "metadata": {},
   "outputs": [
    {
     "data": {
      "text/html": [
       "<div>\n",
       "<style scoped>\n",
       "    .dataframe tbody tr th:only-of-type {\n",
       "        vertical-align: middle;\n",
       "    }\n",
       "\n",
       "    .dataframe tbody tr th {\n",
       "        vertical-align: top;\n",
       "    }\n",
       "\n",
       "    .dataframe thead th {\n",
       "        text-align: right;\n",
       "    }\n",
       "</style>\n",
       "<table border=\"1\" class=\"dataframe\">\n",
       "  <thead>\n",
       "    <tr style=\"text-align: right;\">\n",
       "      <th></th>\n",
       "      <th>from</th>\n",
       "      <th>to</th>\n",
       "    </tr>\n",
       "  </thead>\n",
       "  <tbody>\n",
       "    <tr>\n",
       "      <td>0</td>\n",
       "      <td>164</td>\n",
       "      <td>158</td>\n",
       "    </tr>\n",
       "    <tr>\n",
       "      <td>1</td>\n",
       "      <td>158</td>\n",
       "      <td>160</td>\n",
       "    </tr>\n",
       "    <tr>\n",
       "      <td>2</td>\n",
       "      <td>160</td>\n",
       "      <td>152</td>\n",
       "    </tr>\n",
       "    <tr>\n",
       "      <td>3</td>\n",
       "      <td>152</td>\n",
       "      <td>151</td>\n",
       "    </tr>\n",
       "    <tr>\n",
       "      <td>4</td>\n",
       "      <td>151</td>\n",
       "      <td>153</td>\n",
       "    </tr>\n",
       "  </tbody>\n",
       "</table>\n",
       "</div>"
      ],
      "text/plain": [
       "   from   to\n",
       "0   164  158\n",
       "1   158  160\n",
       "2   160  152\n",
       "3   152  151\n",
       "4   151  153"
      ]
     },
     "execution_count": 16,
     "metadata": {},
     "output_type": "execute_result"
    }
   ],
   "source": [
    "new_df['from'] = new_df['from'].map(dict_stations)\n",
    "new_df['to'] = new_df['to'].map(dict_stations)\n",
    "new_df.head()"
   ]
  },
  {
   "cell_type": "code",
   "execution_count": 17,
   "metadata": {},
   "outputs": [],
   "source": [
    "data_l_in = list(new_df['from'])\n",
    "data_l_out = list(new_df['to'])\n",
    "i , j = 0, 0\n",
    "while i < len(data_l_in) - 1:\n",
    "    adj_matrix[data_l_out[i]][data_l_in[j]] = adj_matrix[data_l_in[j]][data_l_out[i]] = 1\n",
    "    j+=1\n",
    "    i+=1\n",
    "adj_matrix = adj_matrix.astype(int)"
   ]
  },
  {
   "cell_type": "code",
   "execution_count": 18,
   "metadata": {},
   "outputs": [
    {
     "name": "stdout",
     "output_type": "stream",
     "text": [
      " Арбатско-Покровская линия Арбатская [0 0 0 0 0 0 0 0 0 0 0 0 0 0 1 0 0 0 1 0 0 0 0 0 0 0 0 0 0 0 0 0 0 0 0 0 0\n",
      " 0 0 0 0 0 0 0 0 0 0 0 0 0 0 0 0 0 0 0 0 0 0 0 0 0 0 0 0 0 0 0 0 0 0 0 0 0\n",
      " 0 0 0 0 0 0 0 0 0 0 0 0 0 0 0 0 0 0 0 0 0 0 0 0 0 0 0 0 0 0 0 0 0 0 0 0 0\n",
      " 0 0 0 0 0 0 0 0 0 0 0 0 0 0 0 0 1 0 0 0 0 0 0 0 0 0 0 0 0 0 0 0 0 0 0 0 0\n",
      " 0 1 0 0 0 0 0 0 0 0 0 0 0 0 0 0 0 0 0 0 0 0 0 0 0 0 0 0 0 0 0 0 0 0 0 0 0\n",
      " 0 0 0 0 1 0 0 0 0 0 0 0 0 0 0 0 0]\n"
     ]
    }
   ],
   "source": [
    "print(dict_transform[0], adj_matrix[0])"
   ]
  },
  {
   "cell_type": "code",
   "execution_count": 21,
   "metadata": {},
   "outputs": [],
   "source": [
    "def neighbors(station: int) -> list:\n",
    "    list_neighbors = []\n",
    "    for i in range(len(adj_matrix[station])):\n",
    "        if adj_matrix[station][i] == 1:\n",
    "            list_neighbors.append(dict_transform[i])\n",
    "    return list_neighbors"
   ]
  },
  {
   "cell_type": "code",
   "execution_count": 22,
   "metadata": {},
   "outputs": [
    {
     "data": {
      "text/plain": [
       "[' Арбатско-Покровская линия Площадь Революции',\n",
       " ' Арбатско-Покровская линия Смоленская',\n",
       " ' Серпуховско-Тимирязевская линия Боровицкая',\n",
       " ' Сокольническая линия Библиотека имени Ленина',\n",
       " ' Филевская линия Александровский сад']"
      ]
     },
     "execution_count": 22,
     "metadata": {},
     "output_type": "execute_result"
    }
   ],
   "source": [
    "neighbors(0)"
   ]
  },
  {
   "cell_type": "code",
   "execution_count": 14,
   "metadata": {},
   "outputs": [],
   "source": [
    "def guess_class(x,y,k):\n",
    "    '''\n",
    "        Функция отрисовки окрестности точки (x,y) и функция поиска расстояния между точками b,c на плоскости\n",
    "    '''\n",
    "    def draw_points(x,y):\n",
    "        plt.figure(figsize=(5,5))\n",
    "        plt.grid(ls='--')\n",
    "        plt.scatter(a,blues,c='b')\n",
    "        plt.scatter(a,reds,c='r')\n",
    "        plt.scatter(x,y,c='g')\n",
    "        plt.xlim(x-7, x+7)\n",
    "        plt.ylim(y-7, y+7)\n",
    "    draw_points(x,y)\n",
    "    \n",
    "    def distance_2d(b,c):\n",
    "        return np.sqrt((b[0]-c[0])**2+(b[1]-c[1])**2)\n",
    "    '''\n",
    "        Функция подсчета расстояний между ближайшими k точками\n",
    "    '''\n",
    "    def calculate_k_distances(class_points,l):\n",
    "        distances = []\n",
    "        labels = []\n",
    "        for point in class_points:\n",
    "            # считаем расстояние от точки до точки класса\n",
    "            distances.append(distance_2d(point,[x,y]))\n",
    "        distances = np.sort(distances)[::-1]\n",
    "        return [(x,l) for x in distances[:k]]  \n",
    "             \n",
    "    b = np.array(calculate_k_distances(blue_pairs,'b')) # расстояния до ближайших k соседей класса blue\n",
    "    r = np.array(calculate_k_distances(red_pairs,'r')) # расстояния до ближайших k соседей класса red\n",
    "    \n",
    "    print('Ближайшие {} синих соседей'.format(k),b)\n",
    "    print('Ближайшие {} красных соседей'.format(k),r)\n",
    "    nearest_k_dists = pd.DataFrame(np.concatenate((b,r)),\n",
    "                                   columns=['distance', 'label']).sort_values(by='distance',\n",
    "                                                                              ascending=False)[::-1][:k]\n",
    "    print('======================================================')\n",
    "    print(nearest_k_dists)\n",
    "    r, b =0, 0 \n",
    "    for i in range(2*k):\n",
    "        try:\n",
    "            if nearest_k_dists['label'][i] == 'r':\n",
    "                r += 1\n",
    "            else:\n",
    "                b += 1\n",
    "        except:\n",
    "            continue\n",
    "    if r > b :\n",
    "        print('red')\n",
    "    else:\n",
    "        print('blue')"
   ]
  },
  {
   "cell_type": "code",
   "execution_count": null,
   "metadata": {},
   "outputs": [],
   "source": []
  }
 ],
 "metadata": {
  "kernelspec": {
   "display_name": "Python 3",
   "language": "python",
   "name": "python3"
  },
  "language_info": {
   "codemirror_mode": {
    "name": "ipython",
    "version": 3
   },
   "file_extension": ".py",
   "mimetype": "text/x-python",
   "name": "python",
   "nbconvert_exporter": "python",
   "pygments_lexer": "ipython3",
   "version": "3.7.4"
  }
 },
 "nbformat": 4,
 "nbformat_minor": 2
}
